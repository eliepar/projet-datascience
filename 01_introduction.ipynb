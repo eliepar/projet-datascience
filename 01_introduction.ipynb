{
 "cells": [
  {
   "cell_type": "markdown",
   "metadata": {},
   "source": [
    "<img src=\"https://datascientest.fr/train/assets/logo_datascientest.png\" style=\"height:150px\">\n",
    "\n",
    "<hr style=\"border-width:2px;border-color:#75DFC1\">\n",
    "<center><h1>Projet Data Science</h1></center>\n",
    "<center><h2>Introduction</h2></center>\n",
    "<hr style=\"border-width:2px;border-color:#75DFC1\">\n",
    "\n",
    "<blockquote>\n",
    "Ce module est destiné à montrer le déroulement d'un projet de Data Science et d'illuster les différentes étapes.<br>\n",
    "Le problème que nous allons essayé de résoudre est un problème d'attrition client (ie de <i>churn</i>): nous voulons savoir si des clients vont revenir ou s'ils vont partir. <br> Cette problèmatique peut avoir plusieurs objectifs: proposer des offres à certains clients qui ne devraient théoriquement pas revenir pour justement leur faire changer d'avis, connaître les raisons qui font que les clients ne reviennent pas ou même, tout simplement, prévoir le chiffre d'affaire sur une période à venir. <br>\n",
    "<br>\n",
    "Lorsque l'on définit une telle problématique à résoudre, il est intéressant de se poser la question des données à disposition: à quelles données ai-je accès (en interne ou en open data)? Si mes données ne sont pas suffisantes, comment puis-je les compléter (acheter des données, trouver des jeux libres d'accès sur internet, constituer soi-même des jeux de données supplémentaires avec du <i>scraping</i> par exemple, ...)? Est-ce que je connais ce que les données signifient? Et si non, qui peut me renseigner? Comment ces données ont été constituée? Quand l'ont-elles été?  Est-ce que ces données sont de qualité? \n",
    "\n",
    "<br>\n",
    "<br>\n",
    "Ici, nous n'allons pas essayer de répondre à ces questions mais elles sont essentielles pour proposer des modèles pertinents tout en connaissant les limites de ce modèle. Le jeu de données utilisé ici est nommé <code>events.csv</code> et contient une liste d'événements sur un site de e-commerce. Il fait partie d'un ensemble plus complexes de données disponible <a href=\"https://www.kaggle.com/retailrocket/ecommerce-dataset\">ici</a>.\n",
    "</blockquote>\n",
    "\n",
    "* importer <code>pandas</code> et charger le jeu de données\n",
    "* afficher les 5 premières lignes    "
   ]
  },
  {
   "cell_type": "code",
   "execution_count": 1,
   "metadata": {},
   "outputs": [],
   "source": [
    "# Insérer le code ici"
   ]
  },
  {
   "cell_type": "code",
   "execution_count": 2,
   "metadata": {},
   "outputs": [
    {
     "data": {
      "text/html": [
       "<div>\n",
       "<style scoped>\n",
       "    .dataframe tbody tr th:only-of-type {\n",
       "        vertical-align: middle;\n",
       "    }\n",
       "\n",
       "    .dataframe tbody tr th {\n",
       "        vertical-align: top;\n",
       "    }\n",
       "\n",
       "    .dataframe thead th {\n",
       "        text-align: right;\n",
       "    }\n",
       "</style>\n",
       "<table border=\"1\" class=\"dataframe\">\n",
       "  <thead>\n",
       "    <tr style=\"text-align: right;\">\n",
       "      <th></th>\n",
       "      <th>timestamp</th>\n",
       "      <th>visitorid</th>\n",
       "      <th>event</th>\n",
       "      <th>itemid</th>\n",
       "      <th>transactionid</th>\n",
       "    </tr>\n",
       "  </thead>\n",
       "  <tbody>\n",
       "    <tr>\n",
       "      <th>0</th>\n",
       "      <td>1433221332117</td>\n",
       "      <td>257597</td>\n",
       "      <td>view</td>\n",
       "      <td>355908</td>\n",
       "      <td>NaN</td>\n",
       "    </tr>\n",
       "    <tr>\n",
       "      <th>1</th>\n",
       "      <td>1433224214164</td>\n",
       "      <td>992329</td>\n",
       "      <td>view</td>\n",
       "      <td>248676</td>\n",
       "      <td>NaN</td>\n",
       "    </tr>\n",
       "    <tr>\n",
       "      <th>2</th>\n",
       "      <td>1433221999827</td>\n",
       "      <td>111016</td>\n",
       "      <td>view</td>\n",
       "      <td>318965</td>\n",
       "      <td>NaN</td>\n",
       "    </tr>\n",
       "    <tr>\n",
       "      <th>3</th>\n",
       "      <td>1433221955914</td>\n",
       "      <td>483717</td>\n",
       "      <td>view</td>\n",
       "      <td>253185</td>\n",
       "      <td>NaN</td>\n",
       "    </tr>\n",
       "    <tr>\n",
       "      <th>4</th>\n",
       "      <td>1433221337106</td>\n",
       "      <td>951259</td>\n",
       "      <td>view</td>\n",
       "      <td>367447</td>\n",
       "      <td>NaN</td>\n",
       "    </tr>\n",
       "  </tbody>\n",
       "</table>\n",
       "</div>"
      ],
      "text/plain": [
       "       timestamp  visitorid event  itemid  transactionid\n",
       "0  1433221332117     257597  view  355908            NaN\n",
       "1  1433224214164     992329  view  248676            NaN\n",
       "2  1433221999827     111016  view  318965            NaN\n",
       "3  1433221955914     483717  view  253185            NaN\n",
       "4  1433221337106     951259  view  367447            NaN"
      ]
     },
     "execution_count": 2,
     "metadata": {},
     "output_type": "execute_result"
    }
   ],
   "source": [
    "# Insérer le code ici\n",
    "\n",
    "import pandas as pd \n",
    "\n",
    "df = pd.read_csv('events.csv')\n",
    "df.head()"
   ]
  },
  {
   "cell_type": "markdown",
   "metadata": {},
   "source": [
    "* vérifier le type des données avec la méthode <code>info</code>"
   ]
  },
  {
   "cell_type": "code",
   "execution_count": 3,
   "metadata": {},
   "outputs": [],
   "source": [
    "# Insérer le code ici"
   ]
  },
  {
   "cell_type": "code",
   "execution_count": 4,
   "metadata": {},
   "outputs": [
    {
     "name": "stdout",
     "output_type": "stream",
     "text": [
      "<class 'pandas.core.frame.DataFrame'>\n",
      "RangeIndex: 2756101 entries, 0 to 2756100\n",
      "Data columns (total 5 columns):\n",
      "timestamp        int64\n",
      "visitorid        int64\n",
      "event            object\n",
      "itemid           int64\n",
      "transactionid    float64\n",
      "dtypes: float64(1), int64(3), object(1)\n",
      "memory usage: 105.1+ MB\n"
     ]
    }
   ],
   "source": [
    "# Insérer le code ici\n",
    "\n",
    "df.info()"
   ]
  },
  {
   "cell_type": "markdown",
   "metadata": {},
   "source": [
    "<hr style=\"border-width:2px;border-color:#75DFC1\">\n",
    "<center><h2>Description des données</h2></center>\n",
    "<hr style=\"border-width:2px;border-color:#75DFC1\">\n",
    "\n",
    "<blockquote>\n",
    "Les variables contenues dans ce jeu de données sont:\n",
    "<ul>\n",
    "    <li><code>timestamp</code>: timestamp représentant la date et l'heure à laquelle a eu lieu l'événement.</li>\n",
    "    <li><code>visitorid</code>: nombre qui représente un unique visiteur du site acteur de l'événement.</li>\n",
    "    <li><code>event</code>: nature de l'événement. Peut être de 3 types différents: \"view\", \"addtocart\", \"transaction\" qui correspondent à la vue d'un objet, son ajout au panier ou son achat.</li>\n",
    "    <li><code>itemid</code>: nombre qui représente un unique produit concerné par l'événement.</li>\n",
    "    <li><code>transactionid</code>: nombre qui représente une transaction unique</li>\n",
    "</ul>\n",
    "    \n",
    "Une des premières choses à faire est de faire l'inventaire du nombre de produits, du nombre de visiteurs, du nombre d'événements, ...             \n",
    "</blockquote>\n",
    "\n",
    "* donner le nombre d'événements, le nombre de visiteurs uniques, le nombre de produits uniques, la date de début de collecte des données et la date de fin de collecte (pour ce dernier point, on peut utiliser le package <code>datetime</code> et en particulier la fonction <code>datetime.fromtimestamp</code>."
   ]
  },
  {
   "cell_type": "code",
   "execution_count": 5,
   "metadata": {},
   "outputs": [],
   "source": [
    "# Insérer le code ici\n",
    "\n",
    "import datetime"
   ]
  },
  {
   "cell_type": "code",
   "execution_count": 6,
   "metadata": {},
   "outputs": [
    {
     "name": "stdout",
     "output_type": "stream",
     "text": [
      "nombre d'événements uniques: 2756101\n",
      "nombre de visiteurs uniques: 1407580\n",
      "nombre de produits uniques: 235061\n",
      "période: 2015-05-03 05:00:04.384000-2015-09-18 04:59:47.788000\n"
     ]
    }
   ],
   "source": [
    "# Insérer le code ici\n",
    "\n",
    "import datetime\n",
    "\n",
    "n_events = len(df)  # le nombre d'événements correspond au nombre de lignes dans le jeu de données\n",
    "n_visitors = len(df.visitorid.unique())  # le nombre de visiteurs uniques correspond au nombre de valeurs différentes de visitorid\n",
    "n_products = len(df.itemid.unique())  # le nombre de produits uniques correspond au nombre de valeurs différentes de visitorid\n",
    "\n",
    "\n",
    "print(u'nombre d\\'événements uniques: {}'.format(n_events))\n",
    "print(u'nombre de visiteurs uniques: {}'.format(n_visitors))\n",
    "print(u'nombre de produits uniques: {}'.format(n_products))\n",
    "\n",
    "start_ts, stop_ts = df.timestamp.min(), df.timestamp.max()  # on prend le min et le max de la colonne timestamp \n",
    "start = datetime.datetime.fromtimestamp(start_ts/1000)  # on change le timestamp and objet date /!\\ la fonction prend des secondes et ici on a des milisecondes\n",
    "stop = datetime.datetime.fromtimestamp(stop_ts/1000)  # on change le timestamp and objet date /!\\ la fonction prend des secondes et ici on a des milisecondes\n",
    "\n",
    "print(u'période: {}-{}'.format(start, stop))"
   ]
  },
  {
   "cell_type": "markdown",
   "metadata": {},
   "source": [
    "<blockquote>\n",
    "Nous avons donc: \n",
    "<ul>\n",
    "    <li> 2 756 101 événements uniques</li>\n",
    "    <li> 1 407 580 visiteurs uniques </li>\n",
    "    <li> 235 061 produits uniques </li>\n",
    "</ul>\n",
    "\n",
    "Ces événements sont collectés sur une période s'étalant de mai 2015 à septembre 2015.<br>\n",
    "Nous devons aussi voir quelles sont les données manquantes: \n",
    "\n",
    "</blockquote>\n",
    "\n",
    "* donner le nombre de données manquantes par variables"
   ]
  },
  {
   "cell_type": "code",
   "execution_count": 7,
   "metadata": {},
   "outputs": [],
   "source": [
    "# Insérer le code ici"
   ]
  },
  {
   "cell_type": "code",
   "execution_count": 8,
   "metadata": {},
   "outputs": [
    {
     "data": {
      "text/plain": [
       "timestamp              0\n",
       "visitorid              0\n",
       "event                  0\n",
       "itemid                 0\n",
       "transactionid    2733644\n",
       "dtype: int64"
      ]
     },
     "execution_count": 8,
     "metadata": {},
     "output_type": "execute_result"
    }
   ],
   "source": [
    "# Insérer le code ici\n",
    "\n",
    "df.isna().sum()"
   ]
  },
  {
   "cell_type": "markdown",
   "metadata": {},
   "source": [
    "<blockquote>\n",
    "On constate que la seule variable où il manque des données est la variable <code>transactionid</code>: c'est tout à fait logique car les événements qui ne sont pas une transaction ne peuvent pas avoir de <code>transactionid</code>. Vérifions tout de même que le champs est bien renseigné pour toutes les transactions.\n",
    "</blockquote>\n",
    "\n",
    "* vérifier que les événements <code>transaction</code> ont bien un <code>transactionid</code> renseigné à chaque fois. "
   ]
  },
  {
   "cell_type": "code",
   "execution_count": 9,
   "metadata": {},
   "outputs": [],
   "source": [
    "# Insérer le code ici"
   ]
  },
  {
   "cell_type": "code",
   "execution_count": 10,
   "metadata": {},
   "outputs": [
    {
     "name": "stdout",
     "output_type": "stream",
     "text": [
      "timestamp        0\n",
      "visitorid        0\n",
      "event            0\n",
      "itemid           0\n",
      "transactionid    0\n",
      "dtype: int64\n",
      "timestamp              0\n",
      "visitorid              0\n",
      "event                  0\n",
      "itemid                 0\n",
      "transactionid    2733644\n",
      "dtype: int64\n"
     ]
    }
   ],
   "source": [
    "# Insérer le code ici\n",
    "\n",
    "print(df[df['event'] == 'transaction'].isna().sum())\n",
    "print(df[df['event'] != 'transaction'].isna().sum())"
   ]
  },
  {
   "cell_type": "markdown",
   "metadata": {},
   "source": [
    "<blockquote>\n",
    "    Ici nous avons de la chance: le jeu de données est tres propre (il a été probablement nettoyé avant d'être mis sur Kaggle). Cela dit cette étape est très importante: elle nous permet de voir très vite quelles sont les étapes à mettre en place pour pallier à ces données manquantes: \n",
    "    <ul>\n",
    "        <li>supprimer ces lignes au risque de manquer de data ou de perdre une information précieuse</li>\n",
    "        <li>remplacer ces données par des moyennes, des médianes ou des modes, quitte à trop généraliser</li>\n",
    "        <li>proposer un modèle plus fin (par exemple avec de l'open data: si j'ai le CSP d'un client, à partir des données de l'INSEE je peux déduire une tranche de salaire)</li>\n",
    "        <li>proposer un modèle de Machine Learning pour remplacer ces données, ce qui demande du temps et de l'énergie pour des résultats non garantis.</li>\n",
    "    </ul>\n",
    "    Aucune de ces options n'est meilleure que les autres: ce sont simplement des choix qui dépendent de beaucoup de facteurs qui entourent ce projet de Data Science: main d'oeuvre, délais, resources, expertise, exigence de résultats, ...\n",
    "    \n",
    "Finalement, nous devons vérifier que les modèles de données proposés sont bien ceux que nous avons devant nous. Il faut notamment vérifier que la colonne <code>event</code> ne contient bien que les valeurs avancées plus tôt: une erreur dans la saisie, la collecte, dans le stockage ou tout simplement une mauvaise connaissance des données pourraient nous réserver des surprises. \n",
    "</blockquote>\n",
    "* afficher les différentes modalités de la variable <code>event</code>."
   ]
  },
  {
   "cell_type": "code",
   "execution_count": 11,
   "metadata": {},
   "outputs": [],
   "source": [
    "# Insérer le code ici"
   ]
  },
  {
   "cell_type": "code",
   "execution_count": 12,
   "metadata": {},
   "outputs": [
    {
     "name": "stdout",
     "output_type": "stream",
     "text": [
      "['view' 'addtocart' 'transaction']\n"
     ]
    }
   ],
   "source": [
    "# Insérer le code ici\n",
    "\n",
    "print(df.event.unique())"
   ]
  },
  {
   "cell_type": "markdown",
   "metadata": {},
   "source": [
    "<blockquote>\n",
    "\n",
    "Les informations données plus tôt étaient effectivement les bonnes. On peut déjà déduire plusieurs choses de cette méta-analyse: \n",
    "<ul> \n",
    "    <li>Nous savons ce à quoi correspond chacune des variables, leurs modalités ou leur format</li>\n",
    "    <li>Nous n'allons pas avoir de problème de données manquantes, ce qui va nous faire gagner pas mal de temps.</li>\n",
    "    <li>Le jeu de données est plutôt conséquent: plus de 2,7 millions de lignes: il faudra faire attention à ce facteur et peut être adapté les resources en fonction</li>\n",
    "    </ul>\n",
    "    Cette première étape nous permet donc de dresser les contours de notre jeu de données et donc d'accélérer la suite.\n",
    "    </blockquote>"
   ]
  }
 ],
 "metadata": {
  "kernelspec": {
   "display_name": "Python 3",
   "language": "python",
   "name": "python3"
  },
  "language_info": {
   "codemirror_mode": {
    "name": "ipython",
    "version": 3
   },
   "file_extension": ".py",
   "mimetype": "text/x-python",
   "name": "python",
   "nbconvert_exporter": "python",
   "pygments_lexer": "ipython3",
   "version": "3.6.9"
  }
 },
 "nbformat": 4,
 "nbformat_minor": 4
}
